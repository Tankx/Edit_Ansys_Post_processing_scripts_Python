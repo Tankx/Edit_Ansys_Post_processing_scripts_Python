{
 "cells": [
  {
   "cell_type": "code",
   "execution_count": null,
   "metadata": {},
   "outputs": [],
   "source": [
    "%run header_t.py\n",
    "%matplotlib notebook"
   ]
  },
  {
   "cell_type": "code",
   "execution_count": null,
   "metadata": {},
   "outputs": [],
   "source": [
    "%matplotlib notebook\n",
    "plt.style.use('tarl-style.mplstyle')"
   ]
  },
  {
   "cell_type": "code",
   "execution_count": null,
   "metadata": {},
   "outputs": [],
   "source": [
    "with open(\"chart_temp2.txt\", \"r\") as f:\n",
    "    text1 = f.readlines()\n",
    "with open(\"chart_temp3.txt\", \"r\") as f:\n",
    "    text2 = f.readlines()"
   ]
  },
  {
   "cell_type": "code",
   "execution_count": null,
   "metadata": {},
   "outputs": [],
   "source": [
    "# text2[0] = '  CHART SERIES: ' + xx + '_' + yy + '_' + zz + '\\n'\n",
    "# text2[3] = '    Series Name = ' + '_' + xx + '_' + yy + '_' + zz + '\\n'\n",
    "# text2[5] = '    Time Chart Location = /POINT: _' + xx + '_' + yy + '_' + zz + '\\n'"
   ]
  },
  {
   "cell_type": "code",
   "execution_count": null,
   "metadata": {},
   "outputs": [],
   "source": [
    "def add_lines(x_num, y_num, z_num):\n",
    "    xx = str(round(x_num, 3))\n",
    "    yy = str(round(y_num, 3))\n",
    "    zz = str(round(z_num, 3))\n",
    "    new = text2.copy()\n",
    "    text2[0] = '  CHART SERIES: _' + xx + '_' + yy + '_' + zz + '\\n'\n",
    "    text2[3] = '    Series Name = ' + '_' + xx + '_' + yy + '_' + zz + '\\n'\n",
    "    text2[5] = '    Time Chart Location = /POINT: _' + xx + '_' + yy + '_' + zz + '\\n'\n",
    "    return new\n"
   ]
  },
  {
   "cell_type": "code",
   "execution_count": null,
   "metadata": {},
   "outputs": [],
   "source": [
    "count=0\n",
    "final = []\n",
    "for line in text1:\n",
    "    final.append(line)\n",
    "for x_num in np.arange(0.005, 11.59, 0.3):\n",
    "    for y_num in np.arange(0.005, 2.29, 0.3):\n",
    "        for z_num in np.arange(0.000, 2.488, 0.3):\n",
    "            count+=1\n",
    "            new = add_lines(x_num, y_num, z_num)\n",
    "            for line in new:\n",
    "                final.append(line)\n",
    "final.append('END\\n')\n",
    "count"
   ]
  },
  {
   "cell_type": "code",
   "execution_count": null,
   "metadata": {},
   "outputs": [],
   "source": [
    "with open(\"chart_write.txt\", \"w\") as f:\n",
    "    f.writelines(final)"
   ]
  },
  {
   "cell_type": "code",
   "execution_count": null,
   "metadata": {},
   "outputs": [],
   "source": []
  },
  {
   "cell_type": "code",
   "execution_count": null,
   "metadata": {},
   "outputs": [],
   "source": []
  },
  {
   "cell_type": "code",
   "execution_count": null,
   "metadata": {},
   "outputs": [],
   "source": []
  },
  {
   "cell_type": "code",
   "execution_count": null,
   "metadata": {},
   "outputs": [],
   "source": []
  }
 ],
 "metadata": {
  "kernelspec": {
   "display_name": "Python 3",
   "language": "python",
   "name": "python3"
  },
  "language_info": {
   "codemirror_mode": {
    "name": "ipython",
    "version": 3
   },
   "file_extension": ".py",
   "mimetype": "text/x-python",
   "name": "python",
   "nbconvert_exporter": "python",
   "pygments_lexer": "ipython3",
   "version": "3.8.5"
  }
 },
 "nbformat": 4,
 "nbformat_minor": 2
}
