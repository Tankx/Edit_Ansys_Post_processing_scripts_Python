{
 "cells": [
  {
   "cell_type": "code",
   "execution_count": 104,
   "metadata": {},
   "outputs": [
    {
     "data": {
      "text/html": [
       "\n",
       "<style>\n",
       "    div#notebook-container    { width: 95%; }\n",
       "    div#menubar-container     { width: 65%; }\n",
       "    div#maintoolbar-container { width: 99%; }\n",
       "</style>\n"
      ],
      "text/plain": [
       "<IPython.core.display.HTML object>"
      ]
     },
     "metadata": {},
     "output_type": "display_data"
    }
   ],
   "source": [
    "%run header_t.py\n",
    "%matplotlib notebook"
   ]
  },
  {
   "cell_type": "code",
   "execution_count": 105,
   "metadata": {},
   "outputs": [],
   "source": [
    "%matplotlib notebook\n",
    "plt.style.use('tarl-style.mplstyle')"
   ]
  },
  {
   "cell_type": "code",
   "execution_count": 133,
   "metadata": {},
   "outputs": [],
   "source": [
    "with open(\"points_try1.txt\", \"r\") as f:\n",
    "    text = f.readlines()"
   ]
  },
  {
   "cell_type": "code",
   "execution_count": 134,
   "metadata": {},
   "outputs": [],
   "source": [
    "def add_lines(x_num, y_num, z_num):\n",
    "    xx = str(round(x_num, 3))\n",
    "    yy = str(round(y_num, 3))\n",
    "    zz = str(round(z_num, 3))\n",
    "    new = text.copy()\n",
    "    new[0] = 'POINT: _' + xx + '_' + yy + '_' + zz + '\\n'\n",
    "    new[21] = '  Point = ' + xx + ' [m], ' + yy + ' [m], ' + zz + ' [m]\\n'\n",
    "    new[44] = '    X = ' + xx + ' [m]\\n'\n",
    "    new[45] = '    Y = ' + xx + ' [m]\\n'\n",
    "    new[46] = '    Z = ' + xx + ' [m]\\n'\n",
    "    return new\n",
    "\n",
    "    "
   ]
  },
  {
   "cell_type": "code",
   "execution_count": 135,
   "metadata": {},
   "outputs": [
    {
     "data": {
      "text/plain": [
       "2808"
      ]
     },
     "execution_count": 135,
     "metadata": {},
     "output_type": "execute_result"
    }
   ],
   "source": [
    "count=0\n",
    "final = []\n",
    "for x_num in np.arange(0.005, 11.59, 0.3):\n",
    "    for y_num in np.arange(0.005, 2.29, 0.3):\n",
    "        for z_num in np.arange(0.000, 2.488, 0.3):\n",
    "            count+=1\n",
    "            new = add_lines(x_num, y_num, z_num)\n",
    "            for line in new:\n",
    "                final.append(line)\n",
    "count"
   ]
  },
  {
   "cell_type": "code",
   "execution_count": 136,
   "metadata": {},
   "outputs": [],
   "source": [
    "with open(\"points_try3.txt\", \"w\") as f:\n",
    "    f.writelines(final)"
   ]
  },
  {
   "cell_type": "code",
   "execution_count": null,
   "metadata": {},
   "outputs": [],
   "source": [
    "final = []\n",
    "new = text.copy()\n",
    "new[0] = 'POINT: _' + xx + '_' + yy + '_' + zz + '\\n'\n",
    "new[21] = '  Point = ' + xx + ' [m], ' + yy + ' [m], ' + zz + ' [m]\\n'\n",
    "new[44] = '    X = ' + xx + ' [m]\\n'\n",
    "new[45] = '    Y = ' + xx + ' [m]\\n'\n",
    "new[46] = '    Z = ' + xx + ' [m]\\n'\n"
   ]
  },
  {
   "cell_type": "code",
   "execution_count": 107,
   "metadata": {},
   "outputs": [],
   "source": [
    "x_num = 0.001\n",
    "xx = str(x_num)\n",
    "y_num = 0.001\n",
    "yy = str(y_num)\n",
    "z_num = 0.001\n",
    "zz = str(z_num)\n",
    "\n",
    "new1 = text.copy()\n",
    "\n",
    "new1[0] = 'POINT: _' + xx + '_' + yy + '_' + zz + '\\n'\n",
    "new1[21] = '  Point = ' + xx + ' [m], ' + yy + ' [m], ' + zz + ' [m]\\n'\n",
    "new1[44] = '    X = ' + xx + ' [m]\\n'\n",
    "new1[45] = '    Y = ' + xx + ' [m]\\n'\n",
    "new1[46] = '    Z = ' + xx + ' [m]\\n'"
   ]
  },
  {
   "cell_type": "code",
   "execution_count": 101,
   "metadata": {},
   "outputs": [],
   "source": [
    "x_num = 0.002\n",
    "xx = str(x_num)\n",
    "y_num = 0.002\n",
    "yy = str(y_num)\n",
    "z_num = 0.002\n",
    "zz = str(z_num)\n",
    "\n",
    "new2 = text.copy()\n",
    "\n",
    "new2[0] = 'POINT: _' + xx + '_' + yy + '_' + zz + '\\n'\n",
    "new2[21] = '  Point = ' + xx + ' [m], ' + yy + ' [m], ' + zz + ' [m]\\n'\n",
    "new2[44] = '    X = ' + xx + ' [m]\\n'\n",
    "new2[45] = '    Y = ' + xx + ' [m]\\n'\n",
    "new2[46] = '    Z = ' + xx + ' [m]\\n'"
   ]
  },
  {
   "cell_type": "code",
   "execution_count": 102,
   "metadata": {},
   "outputs": [],
   "source": [
    "final = []\n",
    "for line in new1:\n",
    "    final.append(line)\n",
    "for line in new2:\n",
    "    final.append(line)"
   ]
  },
  {
   "cell_type": "code",
   "execution_count": 103,
   "metadata": {},
   "outputs": [],
   "source": [
    "with open(\"points_try2.txt\", \"w\") as f:\n",
    "    f.writelines(final)"
   ]
  },
  {
   "cell_type": "code",
   "execution_count": null,
   "metadata": {},
   "outputs": [],
   "source": []
  }
 ],
 "metadata": {
  "kernelspec": {
   "display_name": "Python 3",
   "language": "python",
   "name": "python3"
  },
  "language_info": {
   "codemirror_mode": {
    "name": "ipython",
    "version": 3
   },
   "file_extension": ".py",
   "mimetype": "text/x-python",
   "name": "python",
   "nbconvert_exporter": "python",
   "pygments_lexer": "ipython3",
   "version": "3.8.5"
  }
 },
 "nbformat": 4,
 "nbformat_minor": 2
}
